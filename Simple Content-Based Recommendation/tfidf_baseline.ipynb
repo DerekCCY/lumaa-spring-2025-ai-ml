{
 "cells": [
  {
   "cell_type": "markdown",
   "metadata": {},
   "source": [
    "## Data preprocessing"
   ]
  },
  {
   "cell_type": "markdown",
   "metadata": {},
   "source": [
    "### Load the movie dataset"
   ]
  },
  {
   "cell_type": "code",
   "execution_count": 13,
   "metadata": {},
   "outputs": [
    {
     "name": "stderr",
     "output_type": "stream",
     "text": [
      "/var/folders/02/3468nfv17jlfk2fs4h1dd6m00000gn/T/ipykernel_56220/4185924934.py:4: DtypeWarning: Columns (10) have mixed types. Specify dtype option on import or set low_memory=False.\n",
      "  df = pd.read_csv(file_path)\n"
     ]
    }
   ],
   "source": [
    "import pandas as pd\n",
    "\n",
    "file_path = \"/Users/ccy/Documents/CMU/Side projects/Simple Content-Based Recommendation/data/movies_metadata.csv\"\n",
    "df = pd.read_csv(file_path)\n",
    "# Only select the title and overview for processing\n",
    "overview_df = df[['original_title', 'overview']]"
   ]
  },
  {
   "cell_type": "markdown",
   "metadata": {},
   "source": [
    "### Nan value removal"
   ]
  },
  {
   "cell_type": "code",
   "execution_count": 14,
   "metadata": {},
   "outputs": [
    {
     "name": "stdout",
     "output_type": "stream",
     "text": [
      "Before\n",
      "original_title      0\n",
      "overview          954\n",
      "dtype: int64\n",
      "45466\n",
      "After\n",
      "original_title    0\n",
      "overview          0\n",
      "dtype: int64\n",
      "44512\n"
     ]
    }
   ],
   "source": [
    "# Drop missing values in description\n",
    "print(\"Before\")\n",
    "null = overview_df.isnull().sum()\n",
    "print(null)\n",
    "print(len(overview_df))\n",
    "print(\"After\")\n",
    "overview_df = overview_df.dropna(subset=['overview'])\n",
    "null = overview_df.isnull().sum()\n",
    "print(null)\n",
    "print(len(overview_df))"
   ]
  },
  {
   "cell_type": "markdown",
   "metadata": {},
   "source": [
    "## Text Vectorization Using TF-IDF\n"
   ]
  },
  {
   "cell_type": "code",
   "execution_count": 15,
   "metadata": {},
   "outputs": [
    {
     "name": "stdout",
     "output_type": "stream",
     "text": [
      "<Compressed Sparse Row sparse matrix of dtype 'float64'\n",
      "\twith 728352 stored elements and shape (44512, 2000)>\n",
      "  Coords\tValues\n",
      "  (0, 1029)\t0.17568592039600542\n",
      "  (0, 85)\t0.6741819087710951\n",
      "  (0, 1051)\t0.14249782524176377\n",
      "  (0, 802)\t0.2179189601093984\n",
      "  (0, 1509)\t0.18201057513680932\n",
      "  (0, 189)\t0.20263106738094483\n",
      "  (0, 226)\t0.1739726534088134\n",
      "  (0, 1536)\t0.18580505108570203\n",
      "  (0, 1073)\t0.19485664671271302\n",
      "  (0, 1325)\t0.1502505518334643\n",
      "  (0, 813)\t0.1650811133423648\n",
      "  (0, 320)\t0.20532213433021398\n",
      "  (0, 1572)\t0.21293493984007275\n",
      "  (0, 1282)\t0.16911161581767634\n",
      "  (0, 540)\t0.21743226165659393\n",
      "  (0, 602)\t0.17074395854343646\n",
      "  (0, 1025)\t0.16588580076047182\n",
      "  (1, 1509)\t0.17012149686340075\n",
      "  (1, 1316)\t0.1766589951259523\n",
      "  (1, 502)\t0.14567159565103233\n",
      "  (1, 198)\t0.19175634218781873\n",
      "  (1, 737)\t0.4667777554055532\n",
      "  (1, 1267)\t0.19432100609799657\n",
      "  (1, 522)\t0.18103690844163978\n",
      "  (1, 1095)\t0.18655519648186308\n",
      "  :\t:\n",
      "  (44510, 1015)\t0.10084010776338252\n",
      "  (44510, 865)\t0.09474524685312195\n",
      "  (44510, 372)\t0.1172407063614064\n",
      "  (44510, 490)\t0.11357833152772362\n",
      "  (44510, 232)\t0.10212582631392096\n",
      "  (44510, 209)\t0.11014915458041494\n",
      "  (44510, 1620)\t0.1012485416912656\n",
      "  (44510, 32)\t0.10131216076104504\n",
      "  (44510, 1688)\t0.09828379775741655\n",
      "  (44510, 1689)\t0.34606508315664736\n",
      "  (44510, 633)\t0.1218701657911688\n",
      "  (44510, 1161)\t0.7695275324932687\n",
      "  (44510, 1771)\t0.1307658160699098\n",
      "  (44511, 1983)\t0.18392432631994854\n",
      "  (44511, 1960)\t0.22960290911206607\n",
      "  (44511, 1142)\t0.2171989239123141\n",
      "  (44511, 497)\t0.23982705037462476\n",
      "  (44511, 474)\t0.34633867134739427\n",
      "  (44511, 742)\t0.299363197673635\n",
      "  (44511, 283)\t0.2561358384134729\n",
      "  (44511, 1444)\t0.3036141805288339\n",
      "  (44511, 23)\t0.3379344558600459\n",
      "  (44511, 657)\t0.3214286520870186\n",
      "  (44511, 17)\t0.332212323397729\n",
      "  (44511, 18)\t0.3369345920022444\n",
      "['000' '10' '100' ... 'youth' 'zombie' 'zombies']\n"
     ]
    }
   ],
   "source": [
    "from sklearn.feature_extraction.text import TfidfVectorizer\n",
    "\n",
    "# Initialize TF-IDF Vectorizer\n",
    "vectorizer = TfidfVectorizer(ngram_range=(1,2),stop_words='english', max_features=2000)   # remove the frequent stop words like the, is, about, and so on.  # Limit features for efficiency\n",
    "\n",
    "# Fit and transform the movie overview\n",
    "tfidf_matrix = vectorizer.fit_transform(overview_df['overview'])\n",
    "feature_names = vectorizer.get_feature_names_out()\n",
    "print(tfidf_matrix)\n",
    "print(feature_names)"
   ]
  },
  {
   "cell_type": "markdown",
   "metadata": {},
   "source": [
    "## Computing similarity"
   ]
  },
  {
   "cell_type": "code",
   "execution_count": 16,
   "metadata": {},
   "outputs": [],
   "source": [
    "from sklearn.metrics.pairwise import cosine_similarity\n",
    "\n",
    "def recommend_movies(user_query, top_n=5):\n",
    "    # Transform the user query into TF-IDF vector\n",
    "    query_vector = vectorizer.transform([user_query])\n",
    "    \n",
    "    # Compute cosine similarity\n",
    "    similarity_scores = cosine_similarity(query_vector, tfidf_matrix).flatten()  # Flatten to 1D array\n",
    "    \n",
    "    # Get indices of top N similar movies\n",
    "    top_indices = similarity_scores.argsort()[-top_n:][::-1]  # Sort in descending order\n",
    "    \n",
    "    # Create a DataFrame with movie titles, overviews, and similarity scores\n",
    "    recommendations = overview_df.iloc[top_indices][['original_title', 'overview']].copy()\n",
    "    recommendations['similarity_score'] = similarity_scores[top_indices]  # Append similarity score\n",
    "    \n",
    "    return recommendations\n"
   ]
  },
  {
   "cell_type": "markdown",
   "metadata": {},
   "source": [
    "### Example"
   ]
  },
  {
   "cell_type": "code",
   "execution_count": 17,
   "metadata": {},
   "outputs": [
    {
     "name": "stdout",
     "output_type": "stream",
     "text": [
      "                  original_title  \\\n",
      "41138  Hollywood Without Make-Up   \n",
      "14096                     London   \n",
      "27514    100 Years at the Movies   \n",
      "44536               The Farthest   \n",
      "44219           Manhunt in Space   \n",
      "\n",
      "                                                overview  similarity_score  \n",
      "41138  Ken Murray - The Man Who Makes Movies of Peopl...          0.458327  \n",
      "14096  The first film in Patrick Keiller's Robinson t...          0.441086  \n",
      "27514  Commemorates the centennial of American movies...          0.423447  \n",
      "44536   Documentary about NASA's Voyager space programme          0.406321  \n",
      "44219  Rocky Jones, Space Ranger fights space pirates...          0.400480  \n"
     ]
    }
   ],
   "source": [
    "# Example query\n",
    "query = \"I love thrilling action movies set in space, with a comedic twist.\"\n",
    "recommended_movies = recommend_movies(query)\n",
    "# Print recommended movies with similarity scores\n",
    "print(recommended_movies)"
   ]
  },
  {
   "cell_type": "markdown",
   "metadata": {},
   "source": [
    "### Your turn !"
   ]
  },
  {
   "cell_type": "code",
   "execution_count": 18,
   "metadata": {},
   "outputs": [
    {
     "data": {
      "text/plain": [
       "38682       Teri Meri Kahaani\n",
       "5323                Zebrahead\n",
       "32616                  Equals\n",
       "37345                  Finale\n",
       "10623    Mozart and the Whale\n",
       "Name: original_title, dtype: object"
      ]
     },
     "execution_count": 18,
     "metadata": {},
     "output_type": "execute_result"
    }
   ],
   "source": [
    "query = input(\"Give me sentences to describe the movies you like, and i will help recommend the movies for you!\")\n",
    "recommended_movies = recommend_movies(query)\n",
    "recommended_movies['original_title']"
   ]
  }
 ],
 "metadata": {
  "kernelspec": {
   "display_name": "recommendation",
   "language": "python",
   "name": "python3"
  },
  "language_info": {
   "codemirror_mode": {
    "name": "ipython",
    "version": 3
   },
   "file_extension": ".py",
   "mimetype": "text/x-python",
   "name": "python",
   "nbconvert_exporter": "python",
   "pygments_lexer": "ipython3",
   "version": "3.10.16"
  }
 },
 "nbformat": 4,
 "nbformat_minor": 2
}
